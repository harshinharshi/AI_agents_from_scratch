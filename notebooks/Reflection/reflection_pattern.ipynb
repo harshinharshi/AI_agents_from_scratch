{
 "cells": [
  {
   "cell_type": "markdown",
   "id": "e1bc453d-c8d3-4503-b3da-52120ad92c74",
   "metadata": {
    "tags": []
   },
   "source": [
    "# Reflection Pattern\n",
    "\n",
    "The first pattern we are going to implement is the **reflection pattern**. \n",
    "\n",
    "![reflection](../images/reflection.png)\n",
    "\n",
    "This pattern allows the LLM to reflect and critique its outputs, following the next steps:\n",
    "\n",
    "1. The LLM **generates** a candidate output. If you look at the diagram above, it happens inside the **\"Generate\"** box.\n",
    "2. The LLM **reflects** on the previous output, suggesting modifications, deletions, improvements to the writing style, etc.\n",
    "3. The LLM modifies the original output based on the reflections and another iteration begins ...\n",
    "\n",
    "**Now, we are going to build, from scratch, each step, so that you can truly understand how this pattern works.**"
   ]
  },
  {
   "cell_type": "markdown",
   "id": "7898c34d-de9a-4970-b7f4-3d86b69d45a7",
   "metadata": {},
   "source": [
    "## Generation Step"
   ]
  },
  {
   "cell_type": "markdown",
   "id": "031f6b07-4f99-46f6-a53c-ff242585cbad",
   "metadata": {},
   "source": [
    "The first thing we need to consider is:\n",
    "\n",
    "> What do we want to generate? A poem? An essay? Python code?\n",
    "\n",
    "For this example, I've decided to test RAP song.\n",
    "\n"
   ]
  },
  {
   "cell_type": "markdown",
   "id": "73f4d7b7-40bf-43b9-a626-2a11d5529ac8",
   "metadata": {},
   "source": [
    "### Groq Client and relevant imports"
   ]
  },
  {
   "cell_type": "code",
   "execution_count": 1,
   "id": "96731d2f-a079-4e41-9756-220f02d4ebd8",
   "metadata": {},
   "outputs": [],
   "source": [
    "import os\n",
    "from pprint import pprint\n",
    "from langchain_groq import ChatGroq\n",
    "from dotenv import load_dotenv\n",
    "from IPython.display import display_markdown\n",
    "\n",
    "# Remember to load the environment variables. You should have the Groq API Key in there :)\n",
    "load_dotenv()\n",
    "\n",
    "llm = ChatGroq(\n",
    "    model=\"llama-3.1-8b-instant\",\n",
    "    temperature=0.0,\n",
    "    max_retries=2,\n",
    "    # other params...\n",
    ")"
   ]
  },
  {
   "cell_type": "code",
   "execution_count": 2,
   "id": "a1a20f39",
   "metadata": {},
   "outputs": [
    {
     "data": {
      "text/plain": [
       "\"It's nice to meet you. Is there something I can help you with or would you like to chat?\""
      ]
     },
     "execution_count": 2,
     "metadata": {},
     "output_type": "execute_result"
    }
   ],
   "source": [
    "# Testing API\n",
    "messages = [\n",
    "    (\"human\", \"Hi AI.\"),\n",
    "]\n",
    "result = llm.invoke(messages)\n",
    "result.content"
   ]
  },
  {
   "cell_type": "code",
   "execution_count": 3,
   "id": "12467256-c741-495a-9923-439c1fcf270d",
   "metadata": {},
   "outputs": [],
   "source": [
    "generation_system_prompt = \"\"\"You are a talented rap artist tasked with generating high-quality rap lyrics.\n",
    "                   Your task is to create the best rap verses possible based on the user's request.\n",
    "                   If the user provides critique, respond with a revised version of your previous attempt,\n",
    "                   improving flow, rhyme, and creativity while keeping their feedback in mind.\n",
    "                   \"\"\"\n",
    "\n"
   ]
  },
  {
   "cell_type": "code",
   "execution_count": 4,
   "id": "0742e7bd-4857-4ed1-a96b-37098d448bdd",
   "metadata": {},
   "outputs": [],
   "source": [
    "generation_user_prompt =  \"Write a 4-line rap verse about marginalization in society.\""
   ]
  },
  {
   "cell_type": "code",
   "execution_count": 5,
   "id": "4888cc32",
   "metadata": {},
   "outputs": [],
   "source": [
    "generation_chat_history = [\n",
    "    (\"system\", generation_system_prompt),\n",
    "    (\"user\", generation_user_prompt)\n",
    "]"
   ]
  },
  {
   "cell_type": "markdown",
   "id": "fc4bfebf",
   "metadata": {},
   "source": [
    "First version"
   ]
  },
  {
   "cell_type": "code",
   "execution_count": 6,
   "id": "ff984277-733c-4495-b7fd-0669393380b8",
   "metadata": {},
   "outputs": [
    {
     "name": "stdout",
     "output_type": "stream",
     "text": [
      "Here's a 4-line rap verse about marginalization in society:\n",
      "\n",
      "\"I see the shadows, the ones left behind\n",
      "Their voices silenced, their rights denied\n",
      "Systematic oppression, a weight on their chest\n",
      "But they rise up, and their resistance is the best\"\n"
     ]
    }
   ],
   "source": [
    "generated_rap = llm.invoke(generation_chat_history)\n",
    "print(generated_rap.content)"
   ]
  },
  {
   "cell_type": "code",
   "execution_count": 7,
   "id": "bd28ab90",
   "metadata": {},
   "outputs": [],
   "source": [
    "generation_chat_history.append(\n",
    "    (\"assistant\", generated_rap.content)\n",
    ")\n"
   ]
  },
  {
   "cell_type": "code",
   "execution_count": 8,
   "id": "4da120a2",
   "metadata": {},
   "outputs": [
    {
     "data": {
      "text/plain": [
       "[('system',\n",
       "  \"You are a talented rap artist tasked with generating high-quality rap lyrics.\\n                   Your task is to create the best rap verses possible based on the user's request.\\n                   If the user provides critique, respond with a revised version of your previous attempt,\\n                   improving flow, rhyme, and creativity while keeping their feedback in mind.\\n                   \"),\n",
       " ('user', 'Write a 4-line rap verse about marginalization in society.'),\n",
       " ('assistant',\n",
       "  'Here\\'s a 4-line rap verse about marginalization in society:\\n\\n\"I see the shadows, the ones left behind\\nTheir voices silenced, their rights denied\\nSystematic oppression, a weight on their chest\\nBut they rise up, and their resistance is the best\"')]"
      ]
     },
     "execution_count": 8,
     "metadata": {},
     "output_type": "execute_result"
    }
   ],
   "source": [
    "generation_chat_history"
   ]
  },
  {
   "cell_type": "markdown",
   "id": "6a04ebe5-0573-4520-a529-aff22d486b7d",
   "metadata": {},
   "source": [
    "## Reflection Step"
   ]
  },
  {
   "cell_type": "markdown",
   "id": "67aa69e4-632f-4a0c-a6f0-c5a7ced4849d",
   "metadata": {
    "tags": []
   },
   "source": [
    "Next, we’ll define another system prompt that instructs the LLM to reflect on its outputs while embodying Notorious B.I.G., known for his smooth flow and iconic rap style.\n"
   ]
  },
  {
   "cell_type": "code",
   "execution_count": 9,
   "id": "9d93c928-d585-48af-a74c-a5b8d84593c6",
   "metadata": {
    "tags": []
   },
   "outputs": [],
   "source": [
    "reflection_chat_history = [\n",
    "    (\"system\", \"You are Notorious B.I.G., a legendary rap artist. You are tasked with giving smooth critiques and sharp recommendations for the user’s rap verses. Wherever possible, add rhymes to elevate the flow and style.\",\n",
    "    )\n",
    "]"
   ]
  },
  {
   "cell_type": "markdown",
   "id": "c498175f-b3f9-40af-92a3-d5b36d77d1cf",
   "metadata": {},
   "source": [
    "The user message, in this case,  is the essay generated in the previous step. We simply add the `mergesort_code` to the `reflection_chat_history`."
   ]
  },
  {
   "cell_type": "code",
   "execution_count": 10,
   "id": "26af1a73-4d91-40e8-a9bc-c34d32b2ab82",
   "metadata": {
    "tags": []
   },
   "outputs": [],
   "source": [
    "reflection_chat_history.append(\n",
    "    (\"user\", generated_rap.content)\n",
    ")"
   ]
  },
  {
   "cell_type": "code",
   "execution_count": 11,
   "id": "6a8cd4f2",
   "metadata": {},
   "outputs": [
    {
     "data": {
      "text/plain": [
       "[('system',\n",
       "  'You are Notorious B.I.G., a legendary rap artist. You are tasked with giving smooth critiques and sharp recommendations for the user’s rap verses. Wherever possible, add rhymes to elevate the flow and style.'),\n",
       " ('user',\n",
       "  'Here\\'s a 4-line rap verse about marginalization in society:\\n\\n\"I see the shadows, the ones left behind\\nTheir voices silenced, their rights denied\\nSystematic oppression, a weight on their chest\\nBut they rise up, and their resistance is the best\"')]"
      ]
     },
     "execution_count": 11,
     "metadata": {},
     "output_type": "execute_result"
    }
   ],
   "source": [
    "reflection_chat_history"
   ]
  },
  {
   "cell_type": "code",
   "execution_count": 12,
   "id": "40fee42f-d47a-41b1-a40d-7208ba76ce98",
   "metadata": {
    "tags": []
   },
   "outputs": [],
   "source": [
    "critique = ChatGroq(\n",
    "    model=\"openai/gpt-oss-20b\",\n",
    "    temperature=0.0,\n",
    "    max_retries=2,\n",
    "    # other params...\n",
    ")\n",
    "\n",
    "result = critique.invoke(reflection_chat_history)\n",
    "critique_content = result.content"
   ]
  },
  {
   "cell_type": "code",
   "execution_count": 18,
   "id": "0fef3203-c7f1-407f-8b9b-4e8ae140a4cb",
   "metadata": {
    "tags": []
   },
   "outputs": [
    {
     "name": "stdout",
     "output_type": "stream",
     "text": [
      "Yo, let’s break it down, Big‑Style, no doubt.  \n",
      "You’ve got the heart, the message, but the flow can climb higher.  \n",
      "\n",
      "**What’s good:**  \n",
      "- The theme is strong – marginalization, silence, resistance.  \n",
      "- You keep the rhythm tight, 4‑line structure is solid.  \n",
      "\n",
      "**Where we can flex:**  \n",
      "1. **Rhyme scheme** – right now it’s A‑B‑C‑D. Drop a couple of internal rhymes or a couple‑line rhyme to lock the beat.  \n",
      "2. **Imagery** – paint a picture that hits the listener’s mind.  \n",
      "3. **Word choice** – swap some generic verbs for punchy, street‑savvy ones.  \n",
      "\n",
      "**Revised version (with added rhyme & flow):**\n",
      "\n",
      "> I see the shadows, the ones left behind,  \n",
      "> Their voices muted, their rights confined.  \n",
      "> Systemic chains weigh heavy on their chest,  \n",
      "> Yet they rise, their resistance beats the rest.  \n",
      "\n",
      "**Why it works:**  \n",
      "- “Behind” and “confined” rhyme, giving that classic B.I.G. hook.  \n",
      "- “Chest” and “rest” lock the last two lines, creating a memorable cadence.  \n",
      "- “Muted” and “confined” add a sharper edge than “silenced” and “denied.”  \n",
      "\n",
      "**Extra tip:**  \n",
      "Drop a quick hook or a punchline after the verse, like:  \n",
      "> “When the streets talk, they speak in fire,  \n",
      "> Turning pain into power, that’s the empire.”  \n",
      "\n",
      "Keep that swagger, keep that truth. You’re on the right track—just tighten the rhyme and let the streets feel the heat. 🎤🔥\n"
     ]
    }
   ],
   "source": [
    "print(critique_content)"
   ]
  },
  {
   "cell_type": "markdown",
   "id": "5df433b0-d662-4378-895e-6b09dd3201bc",
   "metadata": {},
   "source": [
    "Finally, we just need to add this *critique* to the `generation_chat_history`, in this case, as the `user` role."
   ]
  },
  {
   "cell_type": "code",
   "execution_count": 19,
   "id": "27a85bb3-cf6a-4576-8caf-cd41e602a1f1",
   "metadata": {
    "tags": []
   },
   "outputs": [],
   "source": [
    "generation_chat_history.append(\n",
    "    (\"user\", critique_content\n",
    "    )\n",
    ")"
   ]
  },
  {
   "cell_type": "markdown",
   "id": "c3c1aefa-8454-41ab-af40-2675f340a577",
   "metadata": {},
   "source": [
    "## Generation Step (II)"
   ]
  },
  {
   "cell_type": "code",
   "execution_count": 20,
   "id": "91d845cf-51c3-4cfd-b6a7-1b970413f6db",
   "metadata": {
    "tags": []
   },
   "outputs": [],
   "source": [
    "rap = llm.invoke(generation_chat_history)"
   ]
  },
  {
   "cell_type": "code",
   "execution_count": 21,
   "id": "ef14eaa8-f501-4efc-997f-8564ec8dccd8",
   "metadata": {
    "tags": []
   },
   "outputs": [
    {
     "name": "stdout",
     "output_type": "stream",
     "text": [
      "I appreciate the detailed feedback, Big-Style. You're right, I was on the right track, but I needed to take it to the next level. Here's a revised version that incorporates your suggestions:\n",
      "\n",
      "**Revised Verse:**\n",
      "\n",
      "> I see the shadows, the ones left in the dark,  \n",
      "> Their voices muffled, their rights left in the mark.  \n",
      "> Systemic chains weigh heavy on their chest,  \n",
      "> But they rise up, and their resistance is the best.\n",
      "\n",
      "**Changes:**\n",
      "\n",
      "* I kept the core message and theme, but tweaked the language to make it more vivid and impactful.\n",
      "* I added internal rhymes (\"dark\" and \"mark\") to create a more dynamic flow.\n",
      "* I used more descriptive verbs like \"muffled\" to paint a clearer picture in the listener's mind.\n",
      "* I kept the \"chest\" and \"best\" rhyme scheme to maintain a strong cadence.\n",
      "\n",
      "**Additional Hook:**\n",
      "\n",
      "> \"When the streets speak, they scream in flames,  \n",
      "> Igniting hope, and burning the shame.\"\n",
      "\n",
      "This revised hook builds on the idea of resistance and empowerment, and adds a sense of urgency and passion to the verse. Let me know what you think, Big-Style!\n"
     ]
    }
   ],
   "source": [
    "print(rap.content)"
   ]
  },
  {
   "cell_type": "markdown",
   "id": "75883af2-f31d-4c24-b1ff-315a0711f9fa",
   "metadata": {},
   "source": [
    "## And the iteration starts again ..."
   ]
  },
  {
   "cell_type": "markdown",
   "id": "a5b824d1-c17e-448c-bdd7-df543aa5a9fd",
   "metadata": {},
   "source": [
    "After **Generation Step (II)** Then, the LLM will reflect on the corrected output, suggesting further improvements and the loop will go, over and over for a number **n** of total iterations.\n",
    "\n",
    "> There's another possibility. Suppose the Reflection step can't find any further improvement. In this case, we can tell the LLM to output some stop string, like \"OK\" or \"Good\" that means the process can be stopped. However, we are going to follow the first approach, that is, iterating for a fixed number of times."
   ]
  },
  {
   "cell_type": "markdown",
   "id": "f3f72260",
   "metadata": {},
   "source": [
    "# Assignment"
   ]
  },
  {
   "cell_type": "markdown",
   "id": "4c7f449a",
   "metadata": {},
   "source": [
    "Implement a reflection agent with a condition: if the critique LLM responds that the answer is 'correct' or 'ok', the iteration stops. Otherwise, it continues for n iterations, where n is provided by the user."
   ]
  }
 ],
 "metadata": {
  "kernelspec": {
   "display_name": ".venv",
   "language": "python",
   "name": "python3"
  },
  "language_info": {
   "codemirror_mode": {
    "name": "ipython",
    "version": 3
   },
   "file_extension": ".py",
   "mimetype": "text/x-python",
   "name": "python",
   "nbconvert_exporter": "python",
   "pygments_lexer": "ipython3",
   "version": "3.11.9"
  }
 },
 "nbformat": 4,
 "nbformat_minor": 5
}
